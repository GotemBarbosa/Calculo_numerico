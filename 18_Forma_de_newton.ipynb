{
 "cells": [
  {
   "cell_type": "code",
   "execution_count": 1,
   "metadata": {},
   "outputs": [],
   "source": [
    "import numpy as np"
   ]
  },
  {
   "cell_type": "markdown",
   "metadata": {},
   "source": [
    "# Forma de Newton para interpolacao"
   ]
  },
  {
   "cell_type": "code",
   "execution_count": null,
   "metadata": {},
   "outputs": [],
   "source": [
    "def newton(x_i, y_i, x):\n",
    "    # a ideia é usar diferncas divididas\n",
    "    # para calcular o polinomio interpolador\n",
    "\n",
    "    n = np.size(x_i);\n",
    "    n_i = np.size(x);\n",
    "    N = np.ones((n_i, n), dtype=float)\n",
    "    D = np.zeros((n, n), dtype=float)\n",
    "    D[:, 0] = y_i # primeira coluna sao os y_i pq é so o valor aplicado\n",
    "\n",
    "    #Matriz de diferenca divididas\n",
    "    for i in np.arange(n-1):\n",
    "        for j in np.arange(n-i-1):\n",
    "            D[j, i+1] = (D[j+1, i] - D[j, i]) / (x_i[j+i+1] - x_i[j])\n",
    "    \n",
    "    for i in np.arange(n):\n",
    "        N[:, i] = D[0, i] * np.prod(x - x_i[:i], axis=1)\n",
    "    # o polinomio interpolador é a soma dos N_i\n",
    "    y = D[0,:].dot(N)\n",
    "    return y\n"
   ]
  }
 ],
 "metadata": {
  "kernelspec": {
   "display_name": "Python 3",
   "language": "python",
   "name": "python3"
  },
  "language_info": {
   "codemirror_mode": {
    "name": "ipython",
    "version": 3
   },
   "file_extension": ".py",
   "mimetype": "text/x-python",
   "name": "python",
   "nbconvert_exporter": "python",
   "pygments_lexer": "ipython3",
   "version": "3.10.12"
  }
 },
 "nbformat": 4,
 "nbformat_minor": 2
}
