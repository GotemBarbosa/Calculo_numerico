{
 "cells": [
  {
   "cell_type": "code",
   "execution_count": 2,
   "metadata": {},
   "outputs": [],
   "source": [
    "import numpy as np"
   ]
  },
  {
   "cell_type": "markdown",
   "metadata": {},
   "source": [
    "# Cholesky\n",
    "\n",
    "* Se a matriz A for uma matriz simetrica A, diremos que ela é simetrica positiva definida se v*Av > 0 para todo vetor nao nulo\n",
    "* Todos os autovalores positivos de A\n",
    "* se todos os sobre determinantes forem positivos vale tambem"
   ]
  },
  {
   "cell_type": "code",
   "execution_count": 6,
   "metadata": {},
   "outputs": [
    {
     "name": "stdout",
     "output_type": "stream",
     "text": [
      "[[1.73205081 0.         0.        ]\n",
      " [1.15470054 1.91485422 0.        ]\n",
      " [0.         0.52223297 1.65144565]]\n"
     ]
    }
   ],
   "source": [
    "def cholesky(A):\n",
    "    n = len(A)\n",
    "    H = np.zeros((n, n))\n",
    "    for i in range(n):\n",
    "        for j in range(i+1):\n",
    "            if i == j: # Diagonal\n",
    "                H[i, i] = np.sqrt(A[i,i] - sum(H[i, k]**2 for k in range(i)))\n",
    "            else: # Nao diagonal\n",
    "                H[i, j] = (A[i, j] - sum(H[i, k]*H[j, k] for k in range(j))) / H[j, j]\n",
    "    return H\n",
    "\n",
    "\n",
    "A = np.array([[3,2,0],[2,5,1],[0,1,3]])\n",
    "print(cholesky(A))"
   ]
  }
 ],
 "metadata": {
  "kernelspec": {
   "display_name": "Python 3",
   "language": "python",
   "name": "python3"
  },
  "language_info": {
   "codemirror_mode": {
    "name": "ipython",
    "version": 3
   },
   "file_extension": ".py",
   "mimetype": "text/x-python",
   "name": "python",
   "nbconvert_exporter": "python",
   "pygments_lexer": "ipython3",
   "version": "3.10.12"
  }
 },
 "nbformat": 4,
 "nbformat_minor": 2
}
