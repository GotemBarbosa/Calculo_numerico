{
 "cells": [
  {
   "cell_type": "code",
   "execution_count": 1,
   "metadata": {},
   "outputs": [],
   "source": [
    "import numpy as np"
   ]
  },
  {
   "cell_type": "markdown",
   "metadata": {},
   "source": [
    "# Metodo da bisseçao\n",
    "* Metódo para achar raiz de funcao.\n",
    "\n",
    "No metodo da bisseçao aproximamos a e b o mais proximo possivel de x, quase como uma busca binaria"
   ]
  },
  {
   "cell_type": "code",
   "execution_count": 37,
   "metadata": {},
   "outputs": [
    {
     "name": "stdout",
     "output_type": "stream",
     "text": [
      "A raiz é: 11.86152\n"
     ]
    }
   ],
   "source": [
    "def bisec(func,a,b,tol):\n",
    "    x=(a+b)/2\n",
    "    erro = np.inf\n",
    "\n",
    "    while(erro>tol):\n",
    "        if func(a) * func(x) <= 0:\n",
    "            b = x\n",
    "        else:\n",
    "            a = x\n",
    "        \n",
    "        x_0 = x\n",
    "        x = (a+b)/2\n",
    "        erro = abs(x - x_0)\n",
    "\n",
    "    return x\n",
    "\n",
    "def f(x):\n",
    "    return x**3 - 30*x**2 + 2552\n",
    "\n",
    "a = 0\n",
    "b = 30\n",
    "tol = 1e-4\n",
    "\n",
    "root = bisec(f,a,b,tol)\n",
    "print(f\"A raiz é: {root:.5f}\") "
   ]
  }
 ],
 "metadata": {
  "kernelspec": {
   "display_name": "Python 3",
   "language": "python",
   "name": "python3"
  },
  "language_info": {
   "codemirror_mode": {
    "name": "ipython",
    "version": 3
   },
   "file_extension": ".py",
   "mimetype": "text/x-python",
   "name": "python",
   "nbconvert_exporter": "python",
   "pygments_lexer": "ipython3",
   "version": "3.10.12"
  }
 },
 "nbformat": 4,
 "nbformat_minor": 2
}
