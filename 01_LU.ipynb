{
 "cells": [
  {
   "cell_type": "code",
   "execution_count": 2,
   "metadata": {},
   "outputs": [],
   "source": [
    "import numpy as np"
   ]
  },
  {
   "cell_type": "markdown",
   "metadata": {},
   "source": [
    "## Decomposiçao LU\n",
    "\n",
    "* Aparentemente objetivo dessa parte da matéria será entender e compreender as decomposiçoes para solucionar expressoes do tipo:\n",
    "\n",
    "$Ax=b$\n",
    "\n",
    "A ideia é transformar $Ax$ em LU, outra decomposiçao que veremos é a: $A = QR$\n",
    "\n",
    "\n",
    "### Soluçoes para $Ax = b$\n",
    "\n",
    "Podemos entender como $a_1x_1 + a_2x_2+a_3x_3+....+a_nx_n = b. pensando que A é uma matriz e X um vetor o qual queremos descobrir seus valores\n",
    "\n",
    "se os $a_s$ forem li, X terá uma unica soluçao (pensar em coordenadas), com suas colunas li, invertiveis com det(a) $\\neq$ 0\n",
    "> Colunas base, b escrito nessa base, se li, a soluçao é unica\n",
    "\n",
    "Atendendo assim as condiçoes:\n",
    "\n",
    "1. det(a) $\\neq$ 0\n",
    "2. As colunas ou linhas de A sao li\n",
    "3. Existe uma matriz inveras $A^{-1}$ tal que $AA^{-1}=A^{-1}A = I$\n",
    "4. C(A) = $\\R^n$\n",
    "5. N(A) = {0}\n",
    "\n",
    "\n",
    "### LU\n",
    "* L (low) = matriz triangular inferior\n",
    "* U (Up) = matriz triangular superior\n",
    "\n",
    "Assim\n",
    "\n",
    "$A_x = b <=> (L*U)x = b  <=> L*(UX) = B$"
   ]
  },
  {
   "cell_type": "markdown",
   "metadata": {},
   "source": []
  },
  {
   "cell_type": "code",
   "execution_count": 7,
   "metadata": {},
   "outputs": [
    {
     "name": "stdout",
     "output_type": "stream",
     "text": [
      "Teste 1\n",
      "A:\n",
      "[[ 1  2  0]\n",
      " [ 1  3  1]\n",
      " [-2  0  1]]\n",
      "b:\n",
      "[ 3  5 -1]\n",
      "x:\n",
      "[1. 1. 1.]\n",
      "L:\n",
      "[[ 1.  0.  0.]\n",
      " [ 1.  1.  0.]\n",
      " [-2.  4.  1.]]\n",
      "U:\n",
      "[[ 1.  2.  0.]\n",
      " [ 0.  1.  1.]\n",
      " [ 0.  0. -3.]]\n",
      "Determinante de A:\n",
      "-3.0\n"
     ]
    }
   ],
   "source": [
    "def lu_decomposition(A):\n",
    "    # recebe uma matriz A e retorna a decomposição LU de A\n",
    "    # iniciaremos as matrizes L e U com as dimensoes de A, nessa decomposiçao, L possui diagonal unitária por padrão\n",
    "\n",
    "    n = A.shape[0] # número de linhas de A (matriz quadrada)\n",
    "    L = np.eye(n) # inicia como matriz identidade\n",
    "    U = np.zeros((n, n)) # inicia como matriz nula\n",
    "\n",
    "\n",
    "    for i in range(n): # para cada linha i\n",
    "        # calcula a linha i da matriz U\n",
    "        for j in range(i, n): # para cada coluna j até a última\n",
    "            U[i, j] = A[i, j] - sum(L[i, k] * U[k, j] for k in range(i))\n",
    "\n",
    "        # calcula a coluna i da matriz L\n",
    "        for j in range(i+1, n): # para cada linha j da coluna i+1 até a última\n",
    "            L[j, i] = (A[j, i] - sum(L[j, k] * U[k, i] for k in range(i))) / U[i, i]\n",
    "    \n",
    "    return L, U\n",
    "\n",
    "# Conseguimos decompor A em L e U, logo temos (L U)x = b,\n",
    "# podemos entao resolver o problema em duas etapas, onde Ux = y, tendo assim Ly = b e Ux = y\n",
    "# primeiro resolvemos ly = b, e depois ux = y\n",
    "\n",
    "def foward_substitution(L, b): #calcula y resolvendo um sistema triangular inferior (substituiçao direta, forward substitution)\n",
    "    # recebe uma matriz triangular inferior L e um vetor b e resolve o sistema Ly = b\n",
    "    n = L.shape[0] # tamanho do vetor b\n",
    "    y = np.zeros(n) # vetor solução y (usaremos depois para resolver Ux = y) \n",
    "    for i in range(n): \n",
    "        y[i] = b[i] - sum(L[i, k] * y[k] for k in range(i)) #y_i = (b_i - \\sum_{k=1}^{i-1} L_{ik} * y_k)L_{ii}\n",
    "    return y\n",
    "\n",
    "def backward_substitution(U, y): #calcula x resolvendo um sistema triangular superior (substituiçao reversa, backward substitution)\n",
    "    # recebe uma matriz triangular superior U e um vetor y e resolve o sistema Ux = y\n",
    "    n = U.shape[0] # tamanho do vetor y\n",
    "    x = np.zeros(n) # vetor solução x\n",
    "    for i in range(n-1, -1, -1): # percorre o vetor y de trás para frente\n",
    "        x[i] = (y[i] - sum(U[i, k] * x[k] for k in range(i+1, n))) / U[i, i] #x_i = (y_i - \\sum_{k=i+1}^{n} U_{ik} * x_k)/U_{ii}\n",
    "    return x\n",
    "\n",
    "def solve_lu(A, b):\n",
    "    # recebe uma matriz A e um vetor b e resolve o sistema Ax = b\n",
    "    # retorna o vetor x solução\n",
    "    L, U = lu_decomposition(A) # decompõe A em L e U\n",
    "    y = foward_substitution(L, b) # resolve Ly = b\n",
    "    x = backward_substitution(U, y) # resolve Ux = y\n",
    "    return x\n",
    "\n",
    "print(\"Teste 1\")\n",
    "A = np.array([[1, 2, 0], [1, 3, 1], [-2, 0, 1]])\n",
    "b = np.array([3, 5, -1])\n",
    "print(\"A:\")\n",
    "print(A)\n",
    "print(\"b:\")\n",
    "print(b)\n",
    "x = solve_lu(A, b)\n",
    "print(\"x:\")\n",
    "print(x)\n",
    "print(\"L:\")\n",
    "L, U = lu_decomposition(A)\n",
    "print(L)\n",
    "print(\"U:\")\n",
    "print(U)\n",
    "print(\"Determinante de A:\")\n",
    "print(U.diagonal().prod())\n",
    "\n"
   ]
  },
  {
   "cell_type": "markdown",
   "metadata": {},
   "source": [
    "**Assim temos resolvido $Ax = b$**"
   ]
  },
  {
   "cell_type": "markdown",
   "metadata": {},
   "source": [
    "## Eliminaçao de Gauss\n",
    "\n",
    "* Um metodo conhecido como (Escalonamento), nesse método podemos encontrar a matriz L e U. e resolver Ax=b\n",
    "\n",
    "ele consiste em pensar que queremos para as matrizes\n",
    "\n",
    "$\\alpha + \\alpha x = 0$ -> chamaremos esse x de m\n",
    "\n",
    "$m = \\frac{-linha}{pivo}$\n",
    "\n",
    "$L_i <- L_i+m*l_{i-1}$"
   ]
  }
 ],
 "metadata": {
  "kernelspec": {
   "display_name": "Python 3",
   "language": "python",
   "name": "python3"
  },
  "language_info": {
   "codemirror_mode": {
    "name": "ipython",
    "version": 3
   },
   "file_extension": ".py",
   "mimetype": "text/x-python",
   "name": "python",
   "nbconvert_exporter": "python",
   "pygments_lexer": "ipython3",
   "version": "3.10.12"
  }
 },
 "nbformat": 4,
 "nbformat_minor": 2
}
