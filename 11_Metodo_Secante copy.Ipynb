{
 "cells": [
  {
   "cell_type": "code",
   "execution_count": null,
   "metadata": {},
   "outputs": [],
   "source": [
    "import numpy as np"
   ]
  },
  {
   "cell_type": "code",
   "execution_count": 15,
   "metadata": {},
   "outputs": [
    {
     "name": "stdout",
     "output_type": "stream",
     "text": [
      "6\n",
      "f(x) = 0.000000\n",
      "Zero de f(x) = 2.000000\n"
     ]
    }
   ],
   "source": [
    "def secante(func,x_k1,x_k, tol):\n",
    "    for i in range(1000):\n",
    "        x = x_k - func(x_k) * (x_k - x_k1) / (func(x_k) - func(x_k1))\n",
    "            \n",
    "        if abs(x - x_k) < tol:\n",
    "            print(i)\n",
    "            return x\n",
    "        \n",
    "        x_k1 = x_k\n",
    "        x_k = x\n",
    "        \n",
    "\n",
    "\n",
    "def f(x):\n",
    "    return x**2 + x - 6\n",
    "\n",
    "\n",
    "zero = secante(f, 5, 5.5, 1e-6)\n",
    "\n",
    "print(f\"f(x) = {f(zero):.6f}\")\n",
    "\n",
    "print(f\"Zero de f(x) = {zero:.6f}\")\n"
   ]
  },
  {
   "cell_type": "code",
   "execution_count": null,
   "metadata": {},
   "outputs": [],
   "source": [
    "def secante(func,x_0,x_1, tol):\n",
    "    x_k = x_1\n",
    "    x_k1 = x_0\n",
    "    for i in range(1000):\n",
    "\n",
    "        x = x_k - func(x_k) * (x_k - x_k1) / (func(x_k) - func(x_k1))\n",
    "            \n",
    "        if abs(f(x)) < tol:\n",
    "            return x\n",
    "        \n",
    "        x_k1 = x_k\n",
    "        x_k = x\n",
    "\n",
    "\n",
    "def f(x):\n",
    "    return x**3 - 30*x**2 + 2552\n",
    "\n",
    "\n",
    "zero = secante(f, 0, 1, 1e-6)\n",
    "\n",
    "print(f\"f(x) = {f(zero):.6f}\")\n",
    "\n",
    "print(f\"Zero de f(x) = {zero:.6f}\")\n",
    "def secante(func,x_0,x_1, tol):\n",
    "    x_k = x_1\n",
    "    x_k1 = x_0\n",
    "    for i in range(1000):\n",
    "\n",
    "        x = x_k - func(x_k) * (x_k - x_k1) / (func(x_k) - func(x_k1))\n",
    "            \n",
    "        if abs(f(x)) < tol:\n",
    "            return x\n",
    "        \n",
    "        x_k1 = x_k\n",
    "        x_k = x\n",
    "\n",
    "\n",
    "def f(x):\n",
    "    return x**3 - 30*x**2 + 2552\n",
    "\n",
    "\n",
    "zero = secante(f, 0, 1, 1e-6)\n",
    "\n",
    "print(f\"f(x) = {f(zero):.6f}\")\n",
    "\n",
    "print(f\"Zero de f(x) = {zero:.6f}\")\n"
   ]
  }
 ],
 "metadata": {
  "kernelspec": {
   "display_name": "Python 3",
   "language": "python",
   "name": "python3"
  },
  "language_info": {
   "codemirror_mode": {
    "name": "ipython",
    "version": 3
   },
   "file_extension": ".py",
   "mimetype": "text/x-python",
   "name": "python",
   "nbconvert_exporter": "python",
   "pygments_lexer": "ipython3",
   "version": "3.10.12"
  }
 },
 "nbformat": 4,
 "nbformat_minor": 2
}
