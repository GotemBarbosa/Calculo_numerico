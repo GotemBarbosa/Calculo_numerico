{
 "cells": [
  {
   "cell_type": "code",
   "execution_count": 1,
   "metadata": {},
   "outputs": [],
   "source": [
    "import numpy as np"
   ]
  },
  {
   "cell_type": "markdown",
   "metadata": {},
   "source": [
    "# Gauss_Seidel\n",
    "\n",
    "$x = (-L^{-1}R) + L^{-1}b$"
   ]
  },
  {
   "cell_type": "code",
   "execution_count": 3,
   "metadata": {},
   "outputs": [
    {
     "name": "stdout",
     "output_type": "stream",
     "text": [
      "[1. 1. 1.]\n",
      "[1. 1. 1.]\n"
     ]
    }
   ],
   "source": [
    "def gauss_seidel(A, b, x_0, tolerance): # Matriz A, vetor b, vetor x_0( chute inicial), tolerancia\n",
    "    L = np.tril(A) # matriz triangular inferior\n",
    "    R = A - L # matriz triangular superior\n",
    "    # Algo possivel a se fazer é -L^(-1)Rx = L^(-1)b = C, dai é so resolver o sistema triangular que fica mais facil\n",
    "    C = np.linalg.solve(-L, R)\n",
    "    g = np.linalg.inv(L) @ b # L^(-1)b\n",
    "\n",
    "    x = x_0\n",
    "    # O erro vai ser distancia b - Ax_0 > tolerancia && k < 1000 (numero maximo de iteracoes)\n",
    "    k = 0\n",
    "    x = x_0\n",
    "    while np.linalg.norm(b - A @ x) > tolerance and k < 1000:\n",
    "        x = C @ x + g\n",
    "        k += 1\n",
    "\n",
    "    return x\n",
    "\n",
    "\n",
    "A = np.array([[8, 1, -1], [1, -7, 2], [2, 1, 9]], dtype=float)\n",
    "b = np.array([8, -4, 12])\n",
    "x_0 = np.array([0, 0, 0])\n",
    "tolerance = 1e-10\n",
    "\n",
    "print(gauss_seidel(A, b, x_0, tolerance))\n",
    "# teste com o do numpy\n",
    "print(np.linalg.solve(A, b))\n"
   ]
  }
 ],
 "metadata": {
  "kernelspec": {
   "display_name": "Python 3",
   "language": "python",
   "name": "python3"
  },
  "language_info": {
   "codemirror_mode": {
    "name": "ipython",
    "version": 3
   },
   "file_extension": ".py",
   "mimetype": "text/x-python",
   "name": "python",
   "nbconvert_exporter": "python",
   "pygments_lexer": "ipython3",
   "version": "3.10.12"
  }
 },
 "nbformat": 4,
 "nbformat_minor": 2
}
