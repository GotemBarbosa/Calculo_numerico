{
 "cells": [
  {
   "cell_type": "code",
   "execution_count": 1,
   "metadata": {},
   "outputs": [],
   "source": [
    "import numpy as np"
   ]
  },
  {
   "cell_type": "code",
   "execution_count": 2,
   "metadata": {},
   "outputs": [],
   "source": [
    "\n",
    "def backward_substitution(U, y): #calcula x resolvendo um sistema triangular superior (substituiçao reversa, backward substitution)\n",
    "    # recebe uma matriz triangular superior U e um vetor y e resolve o sistema Ux = y\n",
    "    n = U.shape[0] # tamanho do vetor y\n",
    "    x = np.zeros(n) # vetor solução x\n",
    "    for i in range(n-1, -1, -1): # percorre o vetor y de trás para frente\n",
    "        x[i] = (y[i] - sum(U[i, k] * x[k] for k in range(i+1, n))) / U[i, i] #x_i = (y_i - \\sum_{k=i+1}^{n} U_{ik} * x_k)/U_{ii}\n",
    "    return x"
   ]
  },
  {
   "cell_type": "markdown",
   "metadata": {},
   "source": [
    "## Eliminaçao de Gauss\n",
    "\n",
    "* Um metodo conhecido como (Escalonamento), nesse método podemos encontrar a matriz L e U. e resolver Ax=b\n",
    "\n",
    "ele consiste em pensar que queremos para as matrizes\n",
    "\n",
    "$\\alpha + \\alpha x = 0$ -> chamaremos esse x de m\n",
    "\n",
    "$m = \\frac{-linha}{pivo}$\n",
    "\n",
    "$L_i <- L_i+m*l_{i-1}$"
   ]
  },
  {
   "cell_type": "code",
   "execution_count": 3,
   "metadata": {},
   "outputs": [
    {
     "name": "stdout",
     "output_type": "stream",
     "text": [
      "U:\n",
      "[[-2.   3.   1. ]\n",
      " [ 0.   1.   2. ]\n",
      " [ 0.   0.   2.5]]\n",
      "b:\n",
      "[7.  8.  7.5]\n",
      "x:\n",
      "[1. 2. 3.]\n"
     ]
    }
   ],
   "source": [
    "#Metodo de eliminaçao de gauss\n",
    "\n",
    "def gauss_elimination(A, b):\n",
    "    n = len(A) # numero de linhas\n",
    "    m = np.zeros((n,n)) # matriz m\n",
    "    for i in range(n): # para cada linha queremos zerar sua coluna na nova matriz A\n",
    "        \n",
    "        indice = i + np.argmax(np.abs(A[i:, i]))\n",
    "        A[[i, indice]] = A[[indice, i]]\n",
    "        b[[i, indice]] = b[[indice, i]]\n",
    "\n",
    "        for j in range(i+1, n): # para cada linha abaixo da linha i\n",
    "            fator = - A[j][i]/A[i][i] # fator para zerar a coluna i\n",
    "            for k in range(i, n): #Transformando a nova linha\n",
    "                A[j][k] = A[j][k] + fator * A[i][k]\n",
    "            b[j] = b[j] + fator * b[i]\n",
    "            m[j][i] = fator\n",
    "\n",
    "    return m, A, b\n",
    "\n",
    "\n",
    "A = np.array([[0.0, 1.0, 2.0], [1.0, -1.0, 3.0], [-2.0, 3.0, 1.0]])\n",
    "b = np.array([8.0, 8.0, 7.0])\n",
    "\n",
    "M, U, b = gauss_elimination(A, b)\n",
    "\n",
    "print(\"U:\")\n",
    "print(U)\n",
    "print(\"b:\")\n",
    "print(b)\n",
    "\n",
    "def solve_x(A, b):\n",
    "    # recebe uma matriz A e um vetor b e resolve o sistema Ax = b\n",
    "    # retorna o vetor x solução\n",
    "    \n",
    "    x = backward_substitution(U, b) # resolve Ux = y\n",
    "    return x\n",
    "\n",
    "print(\"x:\")\n",
    "print(solve_x(A, b)) # resolve Ax = b"
   ]
  }
 ],
 "metadata": {
  "kernelspec": {
   "display_name": "Python 3",
   "language": "python",
   "name": "python3"
  },
  "language_info": {
   "codemirror_mode": {
    "name": "ipython",
    "version": 3
   },
   "file_extension": ".py",
   "mimetype": "text/x-python",
   "name": "python",
   "nbconvert_exporter": "python",
   "pygments_lexer": "ipython3",
   "version": "3.10.12"
  }
 },
 "nbformat": 4,
 "nbformat_minor": 2
}
