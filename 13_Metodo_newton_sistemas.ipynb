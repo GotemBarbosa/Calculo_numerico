{
 "cells": [
  {
   "cell_type": "code",
   "execution_count": 5,
   "metadata": {},
   "outputs": [
    {
     "name": "stdout",
     "output_type": "stream",
     "text": [
      "Solução encontrada: [ 1.00000000e+00 -3.08029248e-17]\n",
      "Número de iterações: 58\n"
     ]
    }
   ],
   "source": [
    "import numpy as np\n",
    "\n",
    "def newton_system(F, J, x0, tol=1e-10, max_iter=1000):\n",
    "    \"\"\"\n",
    "    Método de Newton para resolver sistemas de equações não lineares F(x) = 0.\n",
    "\n",
    "    Parâmetros:\n",
    "    - F: Função que retorna o vetor F(x).\n",
    "    - J: Função que retorna a matriz Jacobiana J(x).\n",
    "    - x0: Chute inicial (vetor).\n",
    "    - tol: Tolerância para o critério de parada.\n",
    "    - max_iter: Número máximo de iterações.\n",
    "\n",
    "    Retorna:\n",
    "    - x: Solução aproximada.\n",
    "    - k: Número de iterações realizadas.\n",
    "    \"\"\"\n",
    "    x = x0.copy()\n",
    "    for k in range(max_iter):\n",
    "        Fx = F(x)  # Avalia F(x)\n",
    "        Jx = J(x)  # Avalia J(x)\n",
    "        \n",
    "        # Resolve o sistema linear J(x) * delta = -F(x)\n",
    "        # Adiciona uma regularização para evitar matriz singular\n",
    "        regularization = 1e-8 * np.eye(Jx.shape[0])\n",
    "        delta = np.linalg.solve(Jx + regularization, -Fx)\n",
    "        \n",
    "        # Atualiza x\n",
    "        x = x + delta\n",
    "        \n",
    "        # Critério de parada\n",
    "        if np.linalg.norm(delta, np.inf) < tol:\n",
    "            return x, k\n",
    "    \n",
    "    raise ValueError(\"O método de Newton não convergiu após o número máximo de iterações.\")\n",
    "\n",
    "# Definição do sistema de equações\n",
    "def F(x):\n",
    "    # f1(x1, x2) = x1^2 - 2x1 - x2 + 1\n",
    "    # f2(x1, x2) = x1^2 + x2^2 - 1\n",
    "    return np.array([\n",
    "        x[0]**2 - 2*x[0] - x[1] + 1,\n",
    "        x[0]**2 + x[1]**2 - 1\n",
    "    ])\n",
    "\n",
    "# Definição da matriz Jacobiana\n",
    "def J(x):\n",
    "    # Derivadas parciais de f1 e f2\n",
    "    return np.array([\n",
    "        [2*x[0] - 2, -1],  # [df1/dx1, df1/dx2]\n",
    "        [2*x[0], 2*x[1]]   # [df2/dx1, df2/dx2]\n",
    "    ])\n",
    "\n",
    "# Chute inicial\n",
    "x0 = np.array([0.5, 0.5])  # Escolha um chute inicial próximo da solução\n",
    "\n",
    "# Resolvendo o sistema\n",
    "sol, iterations = newton_system(F, J, x0)\n",
    "\n",
    "# Imprimindo os resultados\n",
    "print(\"Solução encontrada:\", sol)\n",
    "print(\"Número de iterações:\", iterations)"
   ]
  }
 ],
 "metadata": {
  "kernelspec": {
   "display_name": "Python 3",
   "language": "python",
   "name": "python3"
  },
  "language_info": {
   "codemirror_mode": {
    "name": "ipython",
    "version": 3
   },
   "file_extension": ".py",
   "mimetype": "text/x-python",
   "name": "python",
   "nbconvert_exporter": "python",
   "pygments_lexer": "ipython3",
   "version": "3.10.12"
  }
 },
 "nbformat": 4,
 "nbformat_minor": 2
}
