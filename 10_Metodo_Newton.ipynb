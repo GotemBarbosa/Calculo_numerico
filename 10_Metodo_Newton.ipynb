{
 "cells": [
  {
   "cell_type": "code",
   "execution_count": null,
   "metadata": {},
   "outputs": [],
   "source": [
    "import numpy as np"
   ]
  },
  {
   "cell_type": "markdown",
   "metadata": {},
   "source": [
    "# Metodo de Newton"
   ]
  },
  {
   "cell_type": "code",
   "execution_count": 4,
   "metadata": {},
   "outputs": [
    {
     "name": "stdout",
     "output_type": "stream",
     "text": [
      "4\n",
      "f(x) = 0.000000\n",
      "Zero de f(x) = 2.000000\n"
     ]
    }
   ],
   "source": [
    "def newton(func, dfunc,x_0, tol):\n",
    "    x = x_0\n",
    "\n",
    "    for i in range(1000):\n",
    "        x = x_0 - func(x_0) / dfunc(x_0)\n",
    "        if abs(x - x_0) < tol:\n",
    "            print(i)\n",
    "            return x\n",
    "        x_0 = x\n",
    "\n",
    "def f(x):\n",
    "    return x**2 + x - 6\n",
    "\n",
    "def df(x):\n",
    "    return 2*x + 1\n",
    "\n",
    "zero = newton(f, df, 5, 1e-6)\n",
    "f(zero)\n",
    "print(f\"f(x) = {f(zero):.6f}\")\n",
    "\n",
    "print(f\"Zero de f(x) = {zero:.6f}\")\n"
   ]
  }
 ],
 "metadata": {
  "kernelspec": {
   "display_name": "Python 3",
   "language": "python",
   "name": "python3"
  },
  "language_info": {
   "codemirror_mode": {
    "name": "ipython",
    "version": 3
   },
   "file_extension": ".py",
   "mimetype": "text/x-python",
   "name": "python",
   "nbconvert_exporter": "python",
   "pygments_lexer": "ipython3",
   "version": "3.10.12"
  }
 },
 "nbformat": 4,
 "nbformat_minor": 2
}
