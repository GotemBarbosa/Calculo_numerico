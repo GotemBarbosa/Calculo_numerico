{
 "cells": [
  {
   "cell_type": "code",
   "execution_count": 2,
   "metadata": {},
   "outputs": [],
   "source": [
    "import numpy as np\n"
   ]
  },
  {
   "cell_type": "code",
   "execution_count": 10,
   "metadata": {},
   "outputs": [
    {
     "name": "stdout",
     "output_type": "stream",
     "text": [
      "f(x) = 0.000000\n",
      "Zero de f(x) = 2.000000\n",
      "Ordem de convergência p = 2.000060\n"
     ]
    },
    {
     "name": "stderr",
     "output_type": "stream",
     "text": [
      "/tmp/ipykernel_107838/1064629433.py:13: RuntimeWarning: divide by zero encountered in double_scalars\n",
      "  p = np.log10(abs(x - raiz) / abs(x_0 - raiz)) / np.log10(abs(x_0 - raiz) / abs(prev - raiz))\n"
     ]
    }
   ],
   "source": [
    "import numpy as np\n",
    "\n",
    "def newton(func, dfunc, x_0, raiz):\n",
    "    x = x_0\n",
    "    prev = x_0\n",
    "    p = None  # Inicializa p como None\n",
    "    \n",
    "    for i in range(1000):\n",
    "        x = x_0 - func(x_0) / dfunc(x_0)\n",
    "        \n",
    "        # Verifica se o denominador é zero antes de calcular p\n",
    "        if abs(x_0 - raiz) > 1e-15 and abs(prev - raiz) > 1e-15:\n",
    "            p = np.log10(abs(x - raiz) / abs(x_0 - raiz)) / np.log10(abs(x_0 - raiz) / abs(prev - raiz))\n",
    "        \n",
    "        prev = x_0\n",
    "        x_0 = x\n",
    "\n",
    "        # Critério de parada para evitar iterações desnecessárias\n",
    "        if abs(func(x)) < 1e-10:\n",
    "            break\n",
    "\n",
    "    return x, p\n",
    "\n",
    "def f(x):\n",
    "    return x**2 + x - 6\n",
    "\n",
    "def df(x):\n",
    "    return 2*x + 1\n",
    "\n",
    "# Chamada da função Newton\n",
    "zero, p = newton(f, df, 5, 2)\n",
    "\n",
    "# Avaliando f no zero encontrado\n",
    "print(f\"f(x) = {f(zero):.6f}\")\n",
    "print(f\"Zero de f(x) = {zero:.6f}\")\n",
    "if p is not None:\n",
    "    print(f\"Ordem de convergência p = {p:.6f}\")\n",
    "else:\n",
    "    print(\"Ordem de convergência não pôde ser calculada.\")"
   ]
  },
  {
   "cell_type": "code",
   "execution_count": 15,
   "metadata": {},
   "outputs": [
    {
     "name": "stdout",
     "output_type": "stream",
     "text": [
      "f(x) = -0.000000\n",
      "Zero de f(x) = 2.000000\n",
      "Ordem de convergência p = 0.999995\n"
     ]
    },
    {
     "name": "stderr",
     "output_type": "stream",
     "text": [
      "/tmp/ipykernel_107838/3743717311.py:10: RuntimeWarning: divide by zero encountered in double_scalars\n",
      "  p = np.log10(abs(x - raiz) / abs(x_0 - raiz)) / np.log10(abs(x_0 - raiz) / abs(prev - raiz))\n"
     ]
    }
   ],
   "source": [
    "def ponto_fixo_generico(func, x_0, raiz):\n",
    "    x = x_0\n",
    "    prev = x_0\n",
    "    p = None \n",
    "\n",
    "    for i in range(100):\n",
    "        x = np.sqrt(6 - x_0)\n",
    "        # Verifica se o denominador é zero antes de calcular p\n",
    "        if abs(x_0 - raiz) > 1e-15 and abs(prev - raiz) > 1e-15:\n",
    "            p = np.log10(abs(x - raiz) / abs(x_0 - raiz)) / np.log10(abs(x_0 - raiz) / abs(prev - raiz))\n",
    "        prev = x_0\n",
    "        x_0 = x\n",
    "\n",
    "        # Critério de parada para evitar iterações desnecessárias\n",
    "        if abs(func(x)) < 1e-10:\n",
    "            break\n",
    "    return x, p\n",
    "\n",
    "def f(x):\n",
    "    return x**2 + x - 6\n",
    "\n",
    "\n",
    "zero, p = ponto_fixo_generico(f, 5.5, 2)\n",
    "\n",
    "print(f\"f(x) = {f(zero):.6f}\")\n",
    "\n",
    "print(f\"Zero de f(x) = {zero:.6f}\")\n",
    "\n",
    "print(f\"Ordem de convergência p = {p:.6f}\")"
   ]
  }
 ],
 "metadata": {
  "kernelspec": {
   "display_name": "Python 3",
   "language": "python",
   "name": "python3"
  },
  "language_info": {
   "codemirror_mode": {
    "name": "ipython",
    "version": 3
   },
   "file_extension": ".py",
   "mimetype": "text/x-python",
   "name": "python",
   "nbconvert_exporter": "python",
   "pygments_lexer": "ipython3",
   "version": "3.10.12"
  }
 },
 "nbformat": 4,
 "nbformat_minor": 2
}
