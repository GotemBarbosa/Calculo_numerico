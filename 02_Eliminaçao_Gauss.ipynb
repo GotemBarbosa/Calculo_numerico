{
 "cells": [
  {
   "cell_type": "code",
   "execution_count": 1,
   "metadata": {},
   "outputs": [],
   "source": [
    "import numpy as np"
   ]
  },
  {
   "cell_type": "markdown",
   "metadata": {},
   "source": [
    "## Eliminaçao de Gauss\n",
    "\n",
    "* Um metodo conhecido como (Escalonamento), nesse método podemos encontrar a matriz L e U. e resolver Ax=b\n",
    "\n",
    "ele consiste em pensar que queremos para as matrizes\n",
    "\n",
    "$\\alpha + \\alpha x = 0$ -> chamaremos esse x de m\n",
    "\n",
    "$m = \\frac{-linha}{pivo}$\n",
    "\n",
    "$L_i <- L_i+m*l_{i-1}$"
   ]
  },
  {
   "cell_type": "code",
   "execution_count": 14,
   "metadata": {},
   "outputs": [
    {
     "name": "stdout",
     "output_type": "stream",
     "text": [
      "L:\n",
      "[[ 1. -0. -0.]\n",
      " [ 2.  1. -0.]\n",
      " [ 3.  2.  1.]]\n",
      "U:\n",
      "[[ 2  1  2]\n",
      " [ 0  1 -1]\n",
      " [ 0  0 -5]]\n"
     ]
    }
   ],
   "source": [
    "#Metodo de eliminaçao de gauss\n",
    "\n",
    "def gauss_elimination(A):\n",
    "    n = len(A) # numero de linhas\n",
    "    m = np.zeros((n,n)) # matriz m\n",
    "    for i in range(n): # para cada linha queremos zerar sua coluna na nova matriz A\n",
    "        for j in range(i, n): # para cada linha abaixo da linha i\n",
    "            if j == i:\n",
    "                fator = - 1\n",
    "                m[j][i] = fator\n",
    "                continue\n",
    "            else:\n",
    "                fator = - A[j][i]/A[i][i] # fator para zerar a coluna i\n",
    "            for k in range(i, n): #Transformando a nova linha\n",
    "                A[j][k] = A[j][k] + fator * A[i][k]\n",
    "            m[j][i] = fator\n",
    "\n",
    "    return m, A\n",
    "\n",
    "\n",
    "A = np.array([[2, 1, 2], [4, 3, 3], [6, 5, -1]])\n",
    "M, A = gauss_elimination(A)\n",
    "\n",
    "#multiplicando os elementos de M por (-1 ) para obter L \n",
    "L = -M\n",
    "U = A\n",
    "\n",
    "print(\"L:\")\n",
    "print(L)\n",
    "print(\"U:\")\n",
    "print(U)"
   ]
  }
 ],
 "metadata": {
  "kernelspec": {
   "display_name": "Python 3",
   "language": "python",
   "name": "python3"
  },
  "language_info": {
   "codemirror_mode": {
    "name": "ipython",
    "version": 3
   },
   "file_extension": ".py",
   "mimetype": "text/x-python",
   "name": "python",
   "nbconvert_exporter": "python",
   "pygments_lexer": "ipython3",
   "version": "3.10.12"
  }
 },
 "nbformat": 4,
 "nbformat_minor": 2
}
