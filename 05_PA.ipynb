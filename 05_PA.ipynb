{
 "cells": [
  {
   "cell_type": "code",
   "execution_count": 2,
   "metadata": {},
   "outputs": [],
   "source": [
    "import numpy as np"
   ]
  },
  {
   "cell_type": "markdown",
   "metadata": {},
   "source": [
    "# PA\n",
    "\n",
    "PA parte da eliminaçao de gauss com pivoteamento, no caso, para encontrar as matrizes U e L apos fazer a troca de linhas que realizamos, ou seja:\n",
    "\n",
    "$PA = LU$ para isso partimos de pontos semelhantes do codigo anterior\n",
    "\n",
    "a matriz P é a matriz identidade permutada onde houve permutacoes durante a eliminaçao"
   ]
  },
  {
   "cell_type": "code",
   "execution_count": null,
   "metadata": {},
   "outputs": [
    {
     "name": "stdout",
     "output_type": "stream",
     "text": [
      "Matriz L:\n",
      "[[ 1.   0.   0. ]\n",
      " [-0.   1.   0. ]\n",
      " [-0.5  0.5  1. ]]\n",
      "Matriz U:\n",
      "[[-2.   3.   1. ]\n",
      " [ 0.   1.   2. ]\n",
      " [ 0.   0.   2.5]]\n",
      "Matriz P:\n",
      "[[0. 0. 1.]\n",
      " [1. 0. 0.]\n",
      " [0. 1. 0.]]\n",
      "P @ A  =\n",
      " [[-2.  3.  1.]\n",
      " [ 0.  1.  2.]\n",
      " [ 1. -1.  3.]]\n",
      "L @ U  =\n",
      " [[-2.  3.  1.]\n",
      " [ 0.  1.  2.]\n",
      " [ 1. -1.  3.]]\n",
      "Diferença (P A - L U):\n",
      " [[0. 0. 0.]\n",
      " [0. 0. 0.]\n",
      " [0. 0. 0.]]\n"
     ]
    }
   ],
   "source": [
    "#Metodo de eliminaçao de gauss com PA\n",
    "\n",
    "\n",
    "def gauss_elimination(A, b):\n",
    "    n = len(A) # numero de linhas\n",
    "    P = np.eye(n)\n",
    "    L = np.eye(n)\n",
    "    \n",
    "    for i in range(n-1): # para cada linha queremos zerar sua coluna na nova matriz A\n",
    "        #escolha do pivo\n",
    "        indice = i + np.argmax(np.abs(A[i:, i]))\n",
    "        #Troca de linhas em A, b, P e se i>0 nas colunas antigas de L\n",
    "        if(indice != i):\n",
    "            A[[i, indice]] = A[[indice, i]]\n",
    "            b[[i, indice]] = b[[indice, i]]\n",
    "            P[[i, indice]] = P[[indice, i]] #troca na matriz de permutacao\n",
    "            if (i > 0):\n",
    "                L[[i, indice], :i] = L[[indice, i], :i]\n",
    "        \n",
    "        #Eliminacao\n",
    "        for j in range(i+1, n): # para cada linha abaixo da linha i\n",
    "            fator = - A[j][i]/A[i][i] # fator para zerar a coluna i\n",
    "            A[j, i:] = A[j,i:] + fator * A[i,i:] #transformando a nova linha\n",
    "            b[j] = b[j] + fator * b[i]\n",
    "            L[j][i] = -fator\n",
    "\n",
    "    U = A # A final é a triangular superior\n",
    "    return L, U, P, b \n",
    "\n",
    "\n",
    "A = np.array([[0.0, 1.0, 2.0], [1.0, -1.0, 3.0], [-2.0, 3.0, 1.0]], dtype=float)\n",
    "b = np.array([8.0, 8.0, 7.0],dtype=float)\n",
    "\n",
    "L, U, P, b_final = gauss_elimination(A.copy(), b.copy())\n",
    "\n",
    "print(\"Matriz L:\")\n",
    "print(L)\n",
    "print(\"Matriz U:\")\n",
    "print(U)\n",
    "print(\"Matriz P:\")\n",
    "print(P)\n",
    " \n",
    "# Verificando se P A ≈ L U\n",
    "PA = P @ A\n",
    "LU = L @ U\n",
    "print(\"P @ A  =\\n\", PA)\n",
    "print(\"L @ U  =\\n\", LU)\n",
    "\n",
    "print(\"Diferença (P A - L U):\\n\", PA - LU)\n"
   ]
  }
 ],
 "metadata": {
  "kernelspec": {
   "display_name": "Python 3",
   "language": "python",
   "name": "python3"
  },
  "language_info": {
   "codemirror_mode": {
    "name": "ipython",
    "version": 3
   },
   "file_extension": ".py",
   "mimetype": "text/x-python",
   "name": "python",
   "nbconvert_exporter": "python",
   "pygments_lexer": "ipython3",
   "version": "3.10.12"
  }
 },
 "nbformat": 4,
 "nbformat_minor": 2
}
