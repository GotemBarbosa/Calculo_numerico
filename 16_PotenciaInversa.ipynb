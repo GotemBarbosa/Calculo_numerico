{
 "cells": [
  {
   "cell_type": "code",
   "execution_count": 5,
   "metadata": {},
   "outputs": [],
   "source": [
    "import numpy as np"
   ]
  },
  {
   "cell_type": "code",
   "execution_count": 4,
   "metadata": {},
   "outputs": [],
   "source": [
    "def lu_decomposition(A):\n",
    "    # recebe uma matriz A e retorna a decomposição LU de A\n",
    "    # iniciaremos as matrizes L e U com as dimensoes de A, nessa decomposiçao, L possui diagonal unitária por padrão\n",
    "\n",
    "    n = A.shape[0] # número de linhas de A (matriz quadrada)\n",
    "    L = np.eye(n) # inicia como matriz identidade\n",
    "    U = np.zeros((n, n)) # inicia como matriz nula\n",
    "\n",
    "\n",
    "    for i in range(n): # para cada linha i\n",
    "        # calcula a linha i da matriz U\n",
    "        for j in range(i, n): # para cada coluna j até a última\n",
    "            U[i, j] = A[i, j] - sum(L[i, k] * U[k, j] for k in range(i))\n",
    "\n",
    "        # calcula a coluna i da matriz L\n",
    "        for j in range(i+1, n): # para cada linha j da coluna i+1 até a última\n",
    "            L[j, i] = (A[j, i] - sum(L[j, k] * U[k, i] for k in range(i))) / U[i, i]\n",
    "    \n",
    "    return L, U\n",
    "\n",
    "# Conseguimos decompor A em L e U, logo temos (L U)x = b,\n",
    "# podemos entao resolver o problema em duas etapas, onde Ux = y, tendo assim Ly = b e Ux = y\n",
    "# primeiro resolvemos ly = b, e depois ux = y\n",
    "\n",
    "def foward_substitution(L, b): #calcula y resolvendo um sistema triangular inferior (substituiçao direta, forward substitution)\n",
    "    # recebe uma matriz triangular inferior L e um vetor b e resolve o sistema Ly = b\n",
    "    n = L.shape[0] # tamanho do vetor b\n",
    "    y = np.zeros(n) # vetor solução y (usaremos depois para resolver Ux = y) \n",
    "    for i in range(n): \n",
    "        y[i] = b[i] - sum(L[i, k] * y[k] for k in range(i)) #y_i = (b_i - \\sum_{k=1}^{i-1} L_{ik} * y_k)L_{ii}\n",
    "    return y\n",
    "\n",
    "def backward_substitution(U, y): #calcula x resolvendo um sistema triangular superior (substituiçao reversa, backward substitution)\n",
    "    # recebe uma matriz triangular superior U e um vetor y e resolve o sistema Ux = y\n",
    "    n = U.shape[0] # tamanho do vetor y\n",
    "    x = np.zeros(n) # vetor solução x\n",
    "    for i in range(n-1, -1, -1): # percorre o vetor y de trás para frente\n",
    "        x[i] = (y[i] - sum(U[i, k] * x[k] for k in range(i+1, n))) / U[i, i] #x_i = (y_i - \\sum_{k=i+1}^{n} U_{ik} * x_k)/U_{ii}\n",
    "    return x\n",
    "\n",
    "def solve_lu(A, b):\n",
    "    # recebe uma matriz A e um vetor b e resolve o sistema Ax = b\n",
    "    # retorna o vetor x solução\n",
    "    L, U = lu_decomposition(A) # decompõe A em L e U\n",
    "    y = foward_substitution(L, b) # resolve Ly = b\n",
    "    x = backward_substitution(U, y) # resolve Ux = y\n",
    "    return x"
   ]
  },
  {
   "cell_type": "markdown",
   "metadata": {},
   "source": [
    "# Metodo da potencia inversa para calcular o autovetor associado ao menor autovalor"
   ]
  },
  {
   "cell_type": "code",
   "execution_count": 7,
   "metadata": {},
   "outputs": [
    {
     "name": "stdout",
     "output_type": "stream",
     "text": [
      "Autovalor encontrado pelo metodo da potencia:  1.9992152186721677\n",
      "Autovetor encontrado pelo metodo da potencia:  [ 0.44791705 -0.89407512]\n",
      "--------------------------------------------------------------\n",
      "Autovalor encontrado pelo metodo do numpy:  [5. 2.]\n",
      "Autovetor encontrado pelo metodo do numpy:  [[ 0.70710678 -0.4472136 ]\n",
      " [ 0.70710678  0.89442719]]\n"
     ]
    }
   ],
   "source": [
    "def potencia(A, tol):\n",
    "    k = 0 #iteracao\n",
    "    k_max = 1000 #maximo de iteracoes\n",
    "\n",
    "    y_0 = np.zeros(A.shape[0]) #vetor inicial\n",
    "    y_0[0] = 1 #primeiro elemento do vetor inicial\n",
    "    erro = np.inf #erro inicial\n",
    "    while(erro > tol and k < k_max):\n",
    "        x = solve_lu(A, y_0) #resolve Ax = y_0\n",
    "        y_1 = x / np.linalg.norm(x)\n",
    "        erro = abs((abs(np.dot(y_1, y_0)) - 1))\n",
    "        y_0 = y_1\n",
    "        k += 1\n",
    "    \n",
    "    autovalor = np.dot(y_1, np.dot(A, y_1))\n",
    "    return autovalor, y_1\n",
    "\n",
    "A = np.array([[4, 1], [2, 3]])\n",
    "tol = 1e-6\n",
    "autovalor, autovetor = potencia(A, tol)\n",
    "\n",
    "# Metodo do numpy para achar autovalor de A\n",
    "autovalor_numpy = np.linalg.eigvals(A)\n",
    "autovetor_numpy = np.linalg.eig(A)[1]\n",
    "\n",
    "print(\"Autovalor encontrado pelo metodo da potencia: \", autovalor)\n",
    "print(\"Autovetor encontrado pelo metodo da potencia: \", autovetor)\n",
    "print(\"--------------------------------------------------------------\")\n",
    "print(\"Autovalor encontrado pelo metodo do numpy: \", autovalor_numpy)\n",
    "print(\"Autovetor encontrado pelo metodo do numpy: \", autovetor_numpy)\n"
   ]
  },
  {
   "cell_type": "code",
   "execution_count": 10,
   "metadata": {},
   "outputs": [
    {
     "name": "stdout",
     "output_type": "stream",
     "text": [
      "Autovalor encontrado pelo metodo da potencia:  1.9992152186721677\n",
      "Autovetor encontrado pelo metodo da potencia:  [ 0.44791705 -0.89407512]\n",
      "--------------------------------------------------------------\n",
      "Autovalor encontrado pelo metodo do numpy:  [5. 2.]\n",
      "Autovetor encontrado pelo metodo do numpy:  [[ 0.70710678 -0.4472136 ]\n",
      " [ 0.70710678  0.89442719]]\n"
     ]
    }
   ],
   "source": [
    "def potencia(A, tol):\n",
    "    k = 0 #iteracao\n",
    "    k_max = 1000 #maximo de iteracoes\n",
    "\n",
    "    y_0 = np.zeros(A.shape[0]) #vetor inicial\n",
    "    y_0[0] = 1 #primeiro elemento do vetor inicial\n",
    "    erro = np.inf #erro inicial\n",
    "    L, U = lu_decomposition(A) # decompõe A em L e U\n",
    "    while(erro > tol and k < k_max):\n",
    "        x = foward_substitution(L, y_0)\n",
    "        x = backward_substitution(U, x)\n",
    "        y_1 = x / np.linalg.norm(x)\n",
    "        erro = abs((abs(np.dot(y_1, y_0)) - 1))\n",
    "        y_0 = y_1\n",
    "        k += 1\n",
    "    \n",
    "    autovalor = np.dot(y_1, np.dot(A, y_1))\n",
    "    return autovalor, y_1\n",
    "\n",
    "A = np.array([[4, 1], [2, 3]])\n",
    "tol = 1e-6\n",
    "autovalor, autovetor = potencia(A, tol)\n",
    "\n",
    "# Metodo do numpy para achar autovalor de A\n",
    "autovalor_numpy = np.linalg.eigvals(A)\n",
    "autovetor_numpy = np.linalg.eig(A)[1]\n",
    "\n",
    "print(\"Autovalor encontrado pelo metodo da potencia: \", autovalor)\n",
    "print(\"Autovetor encontrado pelo metodo da potencia: \", autovetor)\n",
    "print(\"--------------------------------------------------------------\")\n",
    "print(\"Autovalor encontrado pelo metodo do numpy: \", autovalor_numpy)\n",
    "print(\"Autovetor encontrado pelo metodo do numpy: \", autovetor_numpy)\n"
   ]
  }
 ],
 "metadata": {
  "kernelspec": {
   "display_name": "Python 3",
   "language": "python",
   "name": "python3"
  },
  "language_info": {
   "codemirror_mode": {
    "name": "ipython",
    "version": 3
   },
   "file_extension": ".py",
   "mimetype": "text/x-python",
   "name": "python",
   "nbconvert_exporter": "python",
   "pygments_lexer": "ipython3",
   "version": "3.10.12"
  }
 },
 "nbformat": 4,
 "nbformat_minor": 2
}
