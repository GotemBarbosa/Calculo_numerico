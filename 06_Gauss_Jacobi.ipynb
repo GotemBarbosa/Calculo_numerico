{
 "cells": [
  {
   "cell_type": "code",
   "execution_count": 2,
   "metadata": {},
   "outputs": [],
   "source": [
    "import numpy as np"
   ]
  },
  {
   "cell_type": "markdown",
   "metadata": {},
   "source": [
    "# Gauss_Jacobi"
   ]
  },
  {
   "cell_type": "markdown",
   "metadata": {},
   "source": [
    "Gauss jacobi é um metodo iterativo, nele fazemos uma tranformacao linear do tipo X = Cx+G, onde adiquiremos cada x de forma iterativa\n",
    "\n",
    "Note que c"
   ]
  },
  {
   "cell_type": "code",
   "execution_count": 6,
   "metadata": {},
   "outputs": [
    {
     "name": "stdout",
     "output_type": "stream",
     "text": [
      "[1.         1.00000004 0.99999997]\n",
      "[1. 1. 1.]\n"
     ]
    }
   ],
   "source": [
    "def gauss_jacobi(A, b, x_0, tolerance): # Matriz A, vetor b, vetor x_0( chute inicial), tolerancia\n",
    "    n = len(A) # Tamanho da matriz A\n",
    "    # precisamos conseguir uma matriz D para continuar, isso pois usaremos que:\n",
    "    # X^(k+1) = I -  D^(-1) * A + D^(-1) * b , o primeiro termo da soma sendo C e o segundo termo sendo g, assim tendo Cx+g = x \n",
    "    D = np.diag(A) # Matriz diagonal de A\n",
    "    I = np.identity(n) # Matriz identidade de tamanho n\n",
    "    D_inv = np.diag(1/D)\n",
    "\n",
    "    C = I - D_inv @ A\n",
    "    g = D_inv @ b\n",
    "\n",
    "    # O erro vai ser distancia b - Ax_0 > tolerancia && k < 1000 (numero maximo de iteracoes)\n",
    "    k = 0\n",
    "    x = x_0\n",
    "    while np.linalg.norm(b - A @ x) > tolerance and k < 1000:\n",
    "        x = C @ x + g\n",
    "        k += 1\n",
    "\n",
    "    return x\n",
    "\n",
    "A = np.array([[8, 1, -1], [1, -7, 2], [2, 1, 9]], dtype=float)\n",
    "b = np.array([8, -4, 12])\n",
    "x_0 = np.array([0, 0, 0])\n",
    "tolerance = 1e-6\n",
    "\n",
    "print(gauss_jacobi(A, b, x_0, tolerance))\n",
    "# teste com o do numpy\n",
    "print(np.linalg.solve(A, b))\n"
   ]
  }
 ],
 "metadata": {
  "kernelspec": {
   "display_name": "Python 3",
   "language": "python",
   "name": "python3"
  },
  "language_info": {
   "codemirror_mode": {
    "name": "ipython",
    "version": 3
   },
   "file_extension": ".py",
   "mimetype": "text/x-python",
   "name": "python",
   "nbconvert_exporter": "python",
   "pygments_lexer": "ipython3",
   "version": "3.10.12"
  }
 },
 "nbformat": 4,
 "nbformat_minor": 2
}
