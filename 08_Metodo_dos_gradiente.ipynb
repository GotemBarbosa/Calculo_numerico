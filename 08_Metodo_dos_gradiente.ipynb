{
 "cells": [
  {
   "cell_type": "code",
   "execution_count": null,
   "metadata": {
    "vscode": {
     "languageId": "plaintext"
    }
   },
   "outputs": [],
   "source": []
  },
  {
   "cell_type": "code",
   "execution_count": null,
   "metadata": {
    "vscode": {
     "languageId": "plaintext"
    }
   },
   "outputs": [],
   "source": [
    "def gradiente(A, b, x0, tol=1e-10, max_iter=1000):\n",
    "    x = x0.copy()\n",
    "    r = b - A @ x  # Residual inicial\n",
    "    for k in range(max_iter):\n",
    "        alpha = (r @ r) / (r @ (A @ r))  # Passo ótimo\n",
    "        x = x + alpha * r  # Atualiza x\n",
    "        r_new = b - A @ x  # Atualiza o residual\n",
    "        if np.linalg.norm(r_new, np.inf) < tol:  # Critério de parada\n",
    "            return x, k\n",
    "        r = r_new  # Atualiza o residual\n",
    "    return x, max_iter  # Retorna a solução e o número máximo de iterações se não convergir\n"
   ]
  }
 ],
 "metadata": {
  "language_info": {
   "name": "python"
  }
 },
 "nbformat": 4,
 "nbformat_minor": 2
}
