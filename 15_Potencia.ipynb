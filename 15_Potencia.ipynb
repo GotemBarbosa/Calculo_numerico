{
 "cells": [
  {
   "cell_type": "code",
   "execution_count": 2,
   "metadata": {},
   "outputs": [],
   "source": [
    "import numpy as np"
   ]
  },
  {
   "cell_type": "markdown",
   "metadata": {},
   "source": [
    "# Metodo da potencia para encontrar o autovetor associado ao maior autovalor."
   ]
  },
  {
   "cell_type": "code",
   "execution_count": 3,
   "metadata": {},
   "outputs": [
    {
     "name": "stdout",
     "output_type": "stream",
     "text": [
      "Autovalor encontrado pelo metodo da potencia:  3.894117647058823\n",
      "Autovetor encontrado pelo metodo da potencia:  [0.7592566  0.65079137]\n",
      "--------------------------------------------------------------\n",
      "Autovalor encontrado pelo metodo do numpy:  [-1.  4.]\n",
      "Autovetor encontrado pelo metodo do numpy:  [[-0.83205029 -0.70710678]\n",
      " [ 0.5547002  -0.70710678]]\n"
     ]
    }
   ],
   "source": [
    "def potencia(A, tol):\n",
    "    k = 0 #iteracao\n",
    "    k_max = 1000 #maximo de iteracoes\n",
    "\n",
    "    y_0 = np.zeros(A.shape[0]) #vetor inicial\n",
    "    y_0[0] = 1 #primeiro elemento do vetor inicial\n",
    "    erro = np.inf #erro inicial\n",
    "    while(erro > tol and k < k_max):\n",
    "        x = A @ y_0\n",
    "        y_1 = x / np.linalg.norm(x)\n",
    "        erro = abs((abs(np.dot(y_1, y_0)) - 1))\n",
    "        y_0 = y_1\n",
    "        k += 1\n",
    "    \n",
    "    autovalor = np.dot(y_1, np.dot(A, y_1))\n",
    "    return autovalor, y_1\n",
    "\n",
    "A = np.array([[1, 3], [2, 2]])\n",
    "tol = 1e-1\n",
    "autovalor, autovetor = potencia(A, tol)\n",
    "\n",
    "# Metodo do numpy para achar autovalor de A\n",
    "autovalor_numpy = np.linalg.eigvals(A)\n",
    "autovetor_numpy = np.linalg.eig(A)[1]\n",
    "\n",
    "print(\"Autovalor encontrado pelo metodo da potencia: \", autovalor)\n",
    "print(\"Autovetor encontrado pelo metodo da potencia: \", autovetor)\n",
    "print(\"--------------------------------------------------------------\")\n",
    "print(\"Autovalor encontrado pelo metodo do numpy: \", autovalor_numpy)\n",
    "print(\"Autovetor encontrado pelo metodo do numpy: \", autovetor_numpy)\n"
   ]
  }
 ],
 "metadata": {
  "kernelspec": {
   "display_name": "Python 3",
   "language": "python",
   "name": "python3"
  },
  "language_info": {
   "codemirror_mode": {
    "name": "ipython",
    "version": 3
   },
   "file_extension": ".py",
   "mimetype": "text/x-python",
   "name": "python",
   "nbconvert_exporter": "python",
   "pygments_lexer": "ipython3",
   "version": "3.10.12"
  }
 },
 "nbformat": 4,
 "nbformat_minor": 2
}
